{
 "cells": [
  {
   "cell_type": "code",
   "execution_count": 1,
   "id": "939f01f9-f05d-4dab-add1-34ab975cc4bd",
   "metadata": {},
   "outputs": [],
   "source": [
    "import openai"
   ]
  },
  {
   "cell_type": "code",
   "execution_count": 2,
   "id": "3e6bdc84-c55e-44b2-8da6-58f6ddd9be7b",
   "metadata": {},
   "outputs": [],
   "source": [
    "from openai import OpenAI"
   ]
  },
  {
   "cell_type": "code",
   "execution_count": 8,
   "id": "22785dbb-2a9a-48d0-92e8-e775abe35413",
   "metadata": {},
   "outputs": [],
   "source": [
    "client = OpenAI()"
   ]
  },
  {
   "cell_type": "code",
   "execution_count": 9,
   "id": "01e5bf9a-ee9d-4c3c-99c2-e60d45fc2db1",
   "metadata": {},
   "outputs": [],
   "source": [
    "import os"
   ]
  },
  {
   "cell_type": "code",
   "execution_count": 17,
   "id": "334e3253-ee17-4d42-907a-31cc3b3646b2",
   "metadata": {},
   "outputs": [],
   "source": [
    "response = client.chat.completions.create(\n",
    "    model = 'gpt-4o',\n",
    "    messages=[{\"role\":\"user\",\"content\":\"Write down about culture of Bihar in 5 sentences?\"}]\n",
    ")"
   ]
  },
  {
   "cell_type": "code",
   "execution_count": 18,
   "id": "026346db-b37f-4070-9b22-2cc327d610a3",
   "metadata": {},
   "outputs": [
    {
     "data": {
      "text/plain": [
       "'Bihar, a state in eastern India, boasts a rich cultural heritage that has been shaped by various dynasties, including the Mauryas and Guptas. The state is renowned for its classical music, with a strong tradition in folk melodies and dance forms such as Jhijhiya, Jat-Jatin, and Bidesia. Bihar also celebrates a plethora of festivals with great fervor, including Chhath Puja, which is unique to the region and involves elaborate rituals dedicated to the Sun God. The region is a treasure trove of architectural wonders, with ancient sites like Nalanda University and the Mahabodhi Temple illustrating its historical significance in education and religion. Additionally, Bihari cuisine offers a diverse palette of flavors, featuring dishes such as litti-chokha, sattu paratha, and a variety of sweets like tilkut and khaja.'"
      ]
     },
     "execution_count": 18,
     "metadata": {},
     "output_type": "execute_result"
    }
   ],
   "source": [
    "response.choices[0].message.content"
   ]
  },
  {
   "cell_type": "code",
   "execution_count": null,
   "id": "444370b1-2360-42ce-bc89-6d1c785aee5d",
   "metadata": {},
   "outputs": [],
   "source": []
  }
 ],
 "metadata": {
  "kernelspec": {
   "display_name": "Python 3 (ipykernel)",
   "language": "python",
   "name": "python3"
  },
  "language_info": {
   "codemirror_mode": {
    "name": "ipython",
    "version": 3
   },
   "file_extension": ".py",
   "mimetype": "text/x-python",
   "name": "python",
   "nbconvert_exporter": "python",
   "pygments_lexer": "ipython3",
   "version": "3.10.13"
  }
 },
 "nbformat": 4,
 "nbformat_minor": 5
}
